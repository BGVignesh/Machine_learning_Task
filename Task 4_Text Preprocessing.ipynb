{
 "cells": [
  {
   "cell_type": "code",
   "execution_count": 1,
   "id": "5ef1acb6",
   "metadata": {},
   "outputs": [],
   "source": [
    "import pandas as pd\n",
    "import nltk\n",
    "from nltk.tokenize import word_tokenize, sent_tokenize\n",
    "from textblob import TextBlob\n",
    "import autocorrect\n",
    "import emoji\n",
    "import re\n",
    "from nltk.corpus import stopwords\n",
    "from nltk.stem import PorterStemmer, WordNetLemmatizer"
   ]
  },
  {
   "cell_type": "code",
   "execution_count": 45,
   "id": "ec4c2a73",
   "metadata": {},
   "outputs": [],
   "source": [
    "file = open(r\"C:\\Users\\hi\\Desktop\\Innomatics\\ML Sample Docs\\text.txt\", encoding = 'utf_8')"
   ]
  },
  {
   "cell_type": "code",
   "execution_count": 46,
   "id": "26172fe6",
   "metadata": {},
   "outputs": [],
   "source": [
    "text= file.read()"
   ]
  },
  {
   "cell_type": "code",
   "execution_count": 47,
   "id": "6c69a799",
   "metadata": {},
   "outputs": [
    {
     "data": {
      "text/plain": [
       "\"👭 Once upon a tim in Harmonyville, childhood friends Lily and Jake drifted apart, but a trip down memory lane throuh old photos brought them back together.However the wants to meet using www.friendhsip.com. 📷 Nostalgia struck, promting Lily to reach out, and they decided to reunite at their favorite cafe. ☕️ Amidst shared laughter and stories, it became evident that their bond was as stong as ever. 🌟 Inspired, they planed a spontaneous weekend getaway to rekindle their past adventures. 🔥 By the mountain cabin's fireplace, they realized that some friendships, like fine wine, only get better with time.\""
      ]
     },
     "execution_count": 47,
     "metadata": {},
     "output_type": "execute_result"
    }
   ],
   "source": [
    "text"
   ]
  },
  {
   "cell_type": "markdown",
   "id": "aaa50626",
   "metadata": {},
   "source": [
    "## Converting to Lower case"
   ]
  },
  {
   "cell_type": "code",
   "execution_count": 48,
   "id": "884c90ea",
   "metadata": {},
   "outputs": [],
   "source": [
    "text = text.lower()"
   ]
  },
  {
   "cell_type": "code",
   "execution_count": 49,
   "id": "472f3617",
   "metadata": {},
   "outputs": [
    {
     "data": {
      "text/plain": [
       "\"👭 once upon a tim in harmonyville, childhood friends lily and jake drifted apart, but a trip down memory lane throuh old photos brought them back together.however the wants to meet using www.friendhsip.com. 📷 nostalgia struck, promting lily to reach out, and they decided to reunite at their favorite cafe. ☕️ amidst shared laughter and stories, it became evident that their bond was as stong as ever. 🌟 inspired, they planed a spontaneous weekend getaway to rekindle their past adventures. 🔥 by the mountain cabin's fireplace, they realized that some friendships, like fine wine, only get better with time.\""
      ]
     },
     "execution_count": 49,
     "metadata": {},
     "output_type": "execute_result"
    }
   ],
   "source": [
    "text"
   ]
  },
  {
   "cell_type": "markdown",
   "id": "d11bc440",
   "metadata": {},
   "source": [
    "## Emoji Prediction"
   ]
  },
  {
   "cell_type": "code",
   "execution_count": 50,
   "id": "7439f77c",
   "metadata": {},
   "outputs": [],
   "source": [
    "text = emoji.demojize(text).replace(':','')"
   ]
  },
  {
   "cell_type": "code",
   "execution_count": 51,
   "id": "8559f853",
   "metadata": {},
   "outputs": [
    {
     "data": {
      "text/plain": [
       "\"women_holding_hands once upon a tim in harmonyville, childhood friends lily and jake drifted apart, but a trip down memory lane throuh old photos brought them back together.however the wants to meet using www.friendhsip.com. camera nostalgia struck, promting lily to reach out, and they decided to reunite at their favorite cafe. hot_beverage amidst shared laughter and stories, it became evident that their bond was as stong as ever. glowing_star inspired, they planed a spontaneous weekend getaway to rekindle their past adventures. fire by the mountain cabin's fireplace, they realized that some friendships, like fine wine, only get better with time.\""
      ]
     },
     "execution_count": 51,
     "metadata": {},
     "output_type": "execute_result"
    }
   ],
   "source": [
    "text"
   ]
  },
  {
   "cell_type": "markdown",
   "id": "f7ea5b02",
   "metadata": {},
   "source": [
    "## Spelling corrections"
   ]
  },
  {
   "cell_type": "code",
   "execution_count": 52,
   "id": "7e075bec",
   "metadata": {},
   "outputs": [],
   "source": [
    "spell = autocorrect.Speller()"
   ]
  },
  {
   "cell_type": "code",
   "execution_count": 54,
   "id": "04e7bb61",
   "metadata": {},
   "outputs": [],
   "source": [
    "text = spell.autocorrect_sentence(text)"
   ]
  },
  {
   "cell_type": "code",
   "execution_count": 55,
   "id": "79a83526",
   "metadata": {},
   "outputs": [
    {
     "data": {
      "text/plain": [
       "\"women_holding_hands once upon a tim in harmonyville, childhood friends lily and jake drifted apart, but a trip down memory lane through old photos brought them back together.however the wants to meet using www.friendship.com. camera nostalgia struck, promoting lily to reach out, and they decided to reunite at their favorite cafe. hot_beverage amidst shared laughter and stories, it became evident that their bond was as song as ever. glowing_star inspired, they played a spontaneous weekend getaway to rekindle their past adventures. fire by the mountain cabin's fireplace, they realized that some friendships, like fine wine, only get better with time.\""
      ]
     },
     "execution_count": 55,
     "metadata": {},
     "output_type": "execute_result"
    }
   ],
   "source": [
    "text"
   ]
  },
  {
   "cell_type": "markdown",
   "id": "fa031f4d",
   "metadata": {},
   "source": [
    "## URL"
   ]
  },
  {
   "cell_type": "code",
   "execution_count": 56,
   "id": "9926ea81",
   "metadata": {},
   "outputs": [],
   "source": [
    "text = re.sub(r'www.\\S+|https?://\\S+',\"\",text)"
   ]
  },
  {
   "cell_type": "code",
   "execution_count": 57,
   "id": "361e94e1",
   "metadata": {},
   "outputs": [
    {
     "data": {
      "text/plain": [
       "\"women_holding_hands once upon a tim in harmonyville, childhood friends lily and jake drifted apart, but a trip down memory lane through old photos brought them back together.however the wants to meet using  camera nostalgia struck, promoting lily to reach out, and they decided to reunite at their favorite cafe. hot_beverage amidst shared laughter and stories, it became evident that their bond was as song as ever. glowing_star inspired, they played a spontaneous weekend getaway to rekindle their past adventures. fire by the mountain cabin's fireplace, they realized that some friendships, like fine wine, only get better with time.\""
      ]
     },
     "execution_count": 57,
     "metadata": {},
     "output_type": "execute_result"
    }
   ],
   "source": [
    "text"
   ]
  },
  {
   "cell_type": "markdown",
   "id": "f130e296",
   "metadata": {},
   "source": [
    "## Punctuation Marks"
   ]
  },
  {
   "cell_type": "code",
   "execution_count": 58,
   "id": "7039f9ca",
   "metadata": {},
   "outputs": [],
   "source": [
    "text = re.sub(r'[^a-zA-Z0-9 ]',\" \",text) "
   ]
  },
  {
   "cell_type": "code",
   "execution_count": 59,
   "id": "c47afe31",
   "metadata": {},
   "outputs": [
    {
     "data": {
      "text/plain": [
       "'women holding hands once upon a tim in harmonyville  childhood friends lily and jake drifted apart  but a trip down memory lane through old photos brought them back together however the wants to meet using  camera nostalgia struck  promoting lily to reach out  and they decided to reunite at their favorite cafe  hot beverage amidst shared laughter and stories  it became evident that their bond was as song as ever  glowing star inspired  they played a spontaneous weekend getaway to rekindle their past adventures  fire by the mountain cabin s fireplace  they realized that some friendships  like fine wine  only get better with time '"
      ]
     },
     "execution_count": 59,
     "metadata": {},
     "output_type": "execute_result"
    }
   ],
   "source": [
    "text"
   ]
  },
  {
   "cell_type": "markdown",
   "id": "502ecd4e",
   "metadata": {},
   "source": [
    "## Stop Words"
   ]
  },
  {
   "cell_type": "code",
   "execution_count": 60,
   "id": "95b3b8f4",
   "metadata": {},
   "outputs": [],
   "source": [
    "te = text.split()"
   ]
  },
  {
   "cell_type": "code",
   "execution_count": 90,
   "id": "c77b8077",
   "metadata": {},
   "outputs": [],
   "source": [
    "info = ''\n",
    "for i in te:\n",
    "    if i not in stopwords.words('english'):\n",
    "        info = info +\" \"+ i"
   ]
  },
  {
   "cell_type": "code",
   "execution_count": 91,
   "id": "d1ada726",
   "metadata": {},
   "outputs": [
    {
     "data": {
      "text/plain": [
       "' women holding hands upon tim harmonyville childhood friends lily jake drifted apart trip memory lane old photos brought back together however wants meet using camera nostalgia struck promoting lily reach decided reunite favorite cafe hot beverage amidst shared laughter stories became evident bond song ever glowing star inspired played spontaneous weekend getaway rekindle past adventures fire mountain cabin fireplace realized friendships like fine wine get better time'"
      ]
     },
     "execution_count": 91,
     "metadata": {},
     "output_type": "execute_result"
    }
   ],
   "source": [
    "info"
   ]
  },
  {
   "cell_type": "markdown",
   "id": "cb05afcc",
   "metadata": {},
   "source": [
    "## Stemming and Lemmatization"
   ]
  },
  {
   "cell_type": "code",
   "execution_count": 89,
   "id": "64a6bc3c",
   "metadata": {},
   "outputs": [],
   "source": [
    "stemmer = PorterStemmer()"
   ]
  },
  {
   "cell_type": "code",
   "execution_count": 95,
   "id": "9f397a96",
   "metadata": {},
   "outputs": [],
   "source": [
    "st = ''\n",
    "for i in info.split():\n",
    "    stem = stemmer.stem(i)\n",
    "    st = st + ' ' + stem\n"
   ]
  },
  {
   "cell_type": "code",
   "execution_count": 96,
   "id": "939ac062",
   "metadata": {},
   "outputs": [
    {
     "data": {
      "text/plain": [
       "' women hold hand upon tim harmonyvil childhood friend lili jake drift apart trip memori lane old photo brought back togeth howev want meet use camera nostalgia struck promot lili reach decid reunit favorit cafe hot beverag amidst share laughter stori becam evid bond song ever glow star inspir play spontan weekend getaway rekindl past adventur fire mountain cabin fireplac realiz friendship like fine wine get better time'"
      ]
     },
     "execution_count": 96,
     "metadata": {},
     "output_type": "execute_result"
    }
   ],
   "source": [
    "st"
   ]
  },
  {
   "cell_type": "code",
   "execution_count": 97,
   "id": "32f6fabc",
   "metadata": {},
   "outputs": [],
   "source": [
    "vignesh = WordNetLemmatizer()"
   ]
  },
  {
   "cell_type": "code",
   "execution_count": 98,
   "id": "89cbe326",
   "metadata": {},
   "outputs": [],
   "source": [
    "vi = ''\n",
    "for i in st.split():\n",
    "    viggy = vignesh.lemmatize(i)\n",
    "    vi = vi + ' ' + viggy\n"
   ]
  },
  {
   "cell_type": "code",
   "execution_count": 99,
   "id": "74a8b434",
   "metadata": {},
   "outputs": [
    {
     "data": {
      "text/plain": [
       "' woman hold hand upon tim harmonyvil childhood friend lili jake drift apart trip memori lane old photo brought back togeth howev want meet use camera nostalgia struck promot lili reach decid reunit favorit cafe hot beverag amidst share laughter stori becam evid bond song ever glow star inspir play spontan weekend getaway rekindl past adventur fire mountain cabin fireplac realiz friendship like fine wine get better time'"
      ]
     },
     "execution_count": 99,
     "metadata": {},
     "output_type": "execute_result"
    }
   ],
   "source": [
    "vi"
   ]
  },
  {
   "cell_type": "code",
   "execution_count": null,
   "id": "3aebd707",
   "metadata": {},
   "outputs": [],
   "source": []
  }
 ],
 "metadata": {
  "kernelspec": {
   "display_name": "Python 3 (ipykernel)",
   "language": "python",
   "name": "python3"
  },
  "language_info": {
   "codemirror_mode": {
    "name": "ipython",
    "version": 3
   },
   "file_extension": ".py",
   "mimetype": "text/x-python",
   "name": "python",
   "nbconvert_exporter": "python",
   "pygments_lexer": "ipython3",
   "version": "3.11.4"
  }
 },
 "nbformat": 4,
 "nbformat_minor": 5
}
